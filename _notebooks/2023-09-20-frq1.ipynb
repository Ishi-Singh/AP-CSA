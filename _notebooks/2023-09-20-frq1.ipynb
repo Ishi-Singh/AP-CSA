{
 "cells": [
  {
   "cell_type": "markdown",
   "metadata": {},
   "source": [
    "---\n",
    "title: FRQ 1\n",
    "description: Practicing 2d Arrays using Collegeboard\n",
    "layout: default\n",
    "---"
   ]
  },
  {
   "cell_type": "markdown",
   "metadata": {},
   "source": [
    "## 2019 Question 4\n",
    "\n",
    "The LightBoard class models a two-dimensional display of lights, where each light is either on or off, as\n",
    "represented by a Boolean value. You will implement a constructor to initialize the display and a method to\n",
    "evaluate a light."
   ]
  },
  {
   "cell_type": "code",
   "execution_count": null,
   "metadata": {},
   "outputs": [],
   "source": [
    "public class LightBoard\n",
    "{\n",
    " /** The lights on the board, where true represents on and false represents off.\n",
    " */\n",
    " private boolean[][] lights;\n",
    " /** Constructs a LightBoard object having numRows rows and numCols columns.\n",
    " * Precondition: numRows > 0, numCols > 0\n",
    " * Postcondition: each light has a 40% probability of being set to on.\n",
    " */\n",
    " public LightBoard(int numRows, int numCols)\n",
    "{ /* to be implemented in part (a) */ }\n",
    " /** Evaluates a light in row index row and column index col and returns a status\n",
    " * as described in part (b).\n",
    " * Precondition: row and col are valid indexes in lights.\n",
    " */\n",
    " public boolean evaluateLight(int row, int col)\n",
    "{ /* to be implemented in part (b) */ }\n",
    " // There may be additional instance variables, constructors, and methods not shown.\n",
    "}"
   ]
  },
  {
   "cell_type": "markdown",
   "metadata": {},
   "source": [
    "(a) Write the constructor for the LightBoard class, which initializes lights so that each light is set to\n",
    "on with a 40% probability. The notation lights[r][c] represents the array element at row r and\n",
    "column c.\n",
    "Complete the LightBoard constructor below."
   ]
  },
  {
   "cell_type": "code",
   "execution_count": null,
   "metadata": {},
   "outputs": [],
   "source": [
    " /** Constructs a LightBoard object having numRows rows and numCols columns.\n",
    "* Precondition: numRows > 0, numCols > 0\n",
    "* Postcondition: each light has a 40% probability of being set to on.\n",
    "*/\n",
    "public LightBoard(int numRows, int numCols)"
   ]
  },
  {
   "cell_type": "code",
   "execution_count": null,
   "metadata": {},
   "outputs": [],
   "source": [
    "// Answering the Question\n",
    "public LightBoard(int numRows, int numCols){\n",
    "    lights = new boolean[numRows][numCols];\n",
    "    for(int i = 0; i < numRows; i++){\n",
    "        for(int j = 0; j < numCols; j++){\n",
    "            boolean temp = Math.random() < 0.4;\n",
    "            lights[i][j] = temp;\n",
    "        }\n",
    "    }\n",
    "}"
   ]
  },
  {
   "cell_type": "code",
   "execution_count": null,
   "metadata": {},
   "outputs": [],
   "source": [
    "// What Collegeboard did\n",
    "\n",
    "public LightBoard(int numRows, int numCols)\n",
    "{\n",
    " lights = new boolean[numRows][numCols];\n",
    " for (int r = 0; r < numRows; r++)\n",
    " {\n",
    " for (int c = 0; c < numCols; c++)\n",
    " {\n",
    " double rnd = Math.random();\n",
    " lights[r][c] = rnd < 0.4;\n",
    " }\n",
    " }\n",
    "}"
   ]
  },
  {
   "cell_type": "markdown",
   "metadata": {},
   "source": [
    "Collegeboard also iterated using two variables, however they used a double (float) type to decide the on and off status of the light while I used a boolean instead. "
   ]
  },
  {
   "cell_type": "code",
   "execution_count": 20,
   "metadata": {},
   "outputs": [
    {
     "name": "stdout",
     "output_type": "stream",
     "text": [
      "on on off on off \n",
      "off off off off off \n",
      "off on off off on \n",
      "on off on off off \n",
      "off off off off on \n",
      "\n"
     ]
    }
   ],
   "source": [
    "// Printing an output\n",
    "public class LightBoard {\n",
    "    private boolean[][] lights;\n",
    "\n",
    "    public LightBoard(int numRows, int numCols) {\n",
    "        lights = new boolean[numRows][numCols];\n",
    "        for (int i = 0; i < numRows; i++) {\n",
    "            for (int j = 0; j < numCols; j++) {\n",
    "                boolean temp = Math.random() < 0.4;\n",
    "                lights[i][j] = temp;\n",
    "            }\n",
    "        }\n",
    "    }\n",
    "\n",
    "    public String toString() {\n",
    "        StringBuilder sb = new StringBuilder();\n",
    "        for (int i = 0; i < lights.length; i++) {\n",
    "            for (int j = 0; j < lights[0].length; j++) {\n",
    "                if (lights[i][j]) {\n",
    "                    sb.append(\"on \");\n",
    "                } else {\n",
    "                    sb.append(\"off \");\n",
    "                }\n",
    "            }\n",
    "            sb.append(\"\\n\");\n",
    "        }\n",
    "        return sb.toString();\n",
    "    }\n",
    "\n",
    "    public static void main(String[] args) {\n",
    "        LightBoard lightBoard = new LightBoard(5, 5);\n",
    "        System.out.println(lightBoard.toString());\n",
    "    }\n",
    "}\n",
    "\n",
    "LightBoard.main(null)"
   ]
  },
  {
   "cell_type": "markdown",
   "metadata": {},
   "source": [
    "(b) Write the method evaluateLight, which computes and returns the status of a light at a given row and\n",
    "column based on the following rules.\n",
    "1. If the light is on, return false if the number of lights in its column that are on is even, including\n",
    "the current light.\n",
    "2. If the light is off, return true if the number of lights in its column that are on is divisible by three.\n",
    "3. Otherwise, return the light’s current status.\n",
    "\n",
    "For example, suppose that LightBoard sim = new LightBoard(7, 5) creates a light board\n",
    "with the initial state shown below, where true represents a light that is on and false represents a light\n",
    "that is off. Lights that are off are shaded. "
   ]
  },
  {
   "cell_type": "markdown",
   "metadata": {},
   "source": [
    "![image](https://github.com/Ishi-Singh/Fastpages/assets/82348259/9281ed59-502a-421b-aca4-93760ce4b25d)"
   ]
  },
  {
   "cell_type": "code",
   "execution_count": 2,
   "metadata": {},
   "outputs": [],
   "source": [
    "// Answering the Question\n",
    "\n",
    "public boolean evaluateLight(int row, int col){\n",
    "    int numLights = 0;\n",
    "    for(int i = 0; i < lights.length; i++){\n",
    "        for(int j = 0; j < lights.length; j++){\n",
    "            if(lights[i][j]){\n",
    "                numLights++;\n",
    "            }\n",
    "        }\n",
    "    }\n",
    "    if(lights[row][col]){\n",
    "        return (numLights %2 == 1);\n",
    "    }\n",
    "    else{\n",
    "        return (numLights %3 == 0);\n",
    "    }\n",
    "}"
   ]
  },
  {
   "cell_type": "code",
   "execution_count": null,
   "metadata": {},
   "outputs": [],
   "source": [
    "// What Collegeboard did\n",
    "public boolean evaluateLight(int row, int col)\n",
    "{\n",
    " int numOn = 0;\n",
    " for (int r = 0; r < lights.length; r++)\n",
    " {\n",
    " if (lights[r][col])\n",
    " {\n",
    " numOn++;\n",
    " }\n",
    " }\n",
    "\n",
    " if (lights[row][col] && numOn % 2 == 0)\n",
    " {\n",
    " return false;\n",
    " }\n",
    " if (!lights[row][col] && numOn % 3 == 0)\n",
    " {\n",
    " return true;\n",
    " }\n",
    " return lights[row][col];\n",
    "}"
   ]
  },
  {
   "cell_type": "code",
   "execution_count": 7,
   "metadata": {},
   "outputs": [
    {
     "name": "stdout",
     "output_type": "stream",
     "text": [
      "false true true false false false \n",
      "false true true true true true \n",
      "false false true false true false \n",
      "true true false false true false \n",
      "\n"
     ]
    }
   ],
   "source": [
    "// Printing an Output\n",
    "public class LightBoard {\n",
    "    private boolean[][] lights; \n",
    "    private boolean[][] LightResults;\n",
    "\n",
    "    public LightBoard(int numRows, int numCols) {\n",
    "        lights = new boolean[numRows][numCols];\n",
    "        LightResults = new boolean[numRows][numCols];\n",
    "        for (int i = 0; i < numRows; i++) {\n",
    "            for (int j = 0; j < numCols; j++) {\n",
    "                boolean temp = Math.random() < 0.4; // Makes the probability of light being on equal to 0.4\n",
    "                lights[i][j] = temp; // Does it for a cell in the table\n",
    "            }\n",
    "        }\n",
    "        for (int i = 0; i < numRows; i++) {\n",
    "            for (int j = 0; j < numCols; j++) { // Ensures that all of the cells in the table are evaluated\n",
    "                LightResults[i][j] = evaluateLight(i, j);\n",
    "            }\n",
    "        }\n",
    "    }\n",
    "\n",
    "    public boolean evaluateLight(int row, int col) {\n",
    "        int numLights = 0;\n",
    "        for (int i = 0; i < lights.length; i++) {\n",
    "            for (int j = 0; j < lights[0].length; j++) {\n",
    "                if (lights[i][j]) {\n",
    "                    numLights++;\n",
    "                }\n",
    "            }\n",
    "        }\n",
    "        if (lights[row][col]) {\n",
    "            return (numLights % 2 == 1);\n",
    "        } else {\n",
    "            return (numLights % 3 == 0);\n",
    "        }\n",
    "    }\n",
    "\n",
    "    \n",
    "    public String getLightResults() {\n",
    "        StringBuilder sb = new StringBuilder();\n",
    "        for (int i = 0; i < LightResults.length; i++) {\n",
    "            for (int j = 0; j < LightResults[0].length; j++) {\n",
    "                sb.append(LightResults[i][j]).append(\" \");\n",
    "            }\n",
    "            sb.append(\"\\n\");\n",
    "        }\n",
    "        return sb.toString();\n",
    "    }\n",
    "\n",
    "    public static void main(String[] args) {\n",
    "        LightBoard lightBoard = new LightBoard(4, 6);\n",
    "        System.out.println(lightBoard.getLightResults());\n",
    "    }\n",
    "}\n",
    "\n",
    "LightBoard.main(null)"
   ]
  },
  {
   "cell_type": "markdown",
   "metadata": {},
   "source": [
    "## Scoring\n",
    "\n",
    "### Part A\n",
    "\n",
    "Intent: Define implementation of a constructor that initializes a 2D array of lights\n",
    "\n",
    "+1 Creates a new boolean[numRows][numCols] and assigns to instance variable lights\n",
    "\n",
    "+1 Accesses all elements in the created 2D array (no bounds errors)\n",
    "\n",
    "+1 Computes the 40% probability\n",
    "\n",
    "+1 Sets all values of 2D array based on computed probability \n",
    "\n",
    "### Part B\n",
    "\n",
    "Intent: Evaluate the status of a light in a 2D array of lights\n",
    "\n",
    "+1 Accesses an element of lights as a boolean value in an expression\n",
    "\n",
    "+1 Traverses specified col of a 2D array (no bounds errors)\n",
    "\n",
    "+1 Counts the number of true values in the traversal\n",
    "\n",
    "+1 Performs an even calculation and a multiple of three calculation\n",
    "\n",
    "+1 Returns true or false according to all three rules\n",
    "\n",
    "### Penalties\n",
    "\n",
    "-1 (z) Constructor returns a value\n",
    "\n",
    "-1 (y) Destruction of persistent data\n",
    "\n",
    "My Score: 9/9"
   ]
  },
  {
   "cell_type": "markdown",
   "metadata": {},
   "source": [
    "## Main Takeaways\n",
    "\n",
    "- The syntax is really specific\n",
    "  - You need to use what collegeboard gave you\n",
    "  - You can't omit keywords even if the code will run without it\n",
    "- Even if you don't know Java that well you can still do well if you know code logic\n",
    "  - Making arrays through iterations\n",
    "  - Getting the probability of lights being on to be .4\n",
    "  - Modular expression"
   ]
  },
  {
   "cell_type": "markdown",
   "metadata": {},
   "source": [
    "## Similarities\n",
    "\n",
    "- In both the 2019 and 2022 FRQ; the array made in part one must be evaluated and give a different output based on the status of the initial array"
   ]
  }
 ],
 "metadata": {
  "kernelspec": {
   "display_name": "Java",
   "language": "java",
   "name": "java"
  },
  "language_info": {
   "codemirror_mode": "java",
   "file_extension": ".jshell",
   "mimetype": "text/x-java-source",
   "name": "java",
   "pygments_lexer": "java",
   "version": "11.0.16+8-post-Ubuntu-0ubuntu120.04"
  },
  "orig_nbformat": 4
 },
 "nbformat": 4,
 "nbformat_minor": 2
}
