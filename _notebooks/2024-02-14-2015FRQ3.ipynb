{
 "cells": [
  {
   "cell_type": "markdown",
   "metadata": {},
   "source": [
    "---\n",
    "toc: true\n",
    "comments: true\n",
    "layout: post\n",
    "title: 2015 FRQ 3\n",
    "type: tangibles\n",
    "---"
   ]
  },
  {
   "cell_type": "markdown",
   "metadata": {},
   "source": [
    "## Question\n",
    "\n",
    "Directions: SHOW ALL YOUR WORK. REMEMBER THAT PROGRAM SEGMENTS ARE TO BE WRITTEN IN JAVA.\n",
    "\n",
    "Notes:\n",
    " \n",
    "\n",
    "Assume that the classes listed in the Java Quick Reference have been imported where appropriate.\n",
    "\n",
    "Unless otherwise noted in the question, assume that parameters in method calls are not null and that methods are called only when their preconditions are satisfied.\n",
    "\n",
    "In writing solutions for each question, you may use any of the accessible methods that are listed in classes defined in that question. Writing significant amounts of code that can be replaced by a call to one of these methods will not receive full credit.\n",
    "\n",
    "A two-dimensional array of integers in which most elements are zero is called a sparse array. Because most elements have a value of zero, memory can be saved by storing only the non-zero values along with their row and column indexes. The following complete SparseArrayEntry class is used to represent non-zero elements in a sparse array. A SparseArrayEntry object cannot be modified after it has been constructed.\n",
    "\n",
    "![image](https://github.com/Ishi-Singh/AP-CSA/assets/82348259/87432a30-be81-419a-a897-d3c343b2501a)\n",
    "\n",
    "The SparseArray class represents a sparse array. It contains a list of SparseArrayEntry objects, each of which represents one of the non-zero elements in the array. The entries representing the non-zero elements are stored in the list in no particular order. Each non-zero element is represented by exactly one entry in the list.\n",
    "\n",
    "![image](https://github.com/Ishi-Singh/AP-CSA/assets/82348259/4c72c388-7cc9-496a-9fa6-c4a5234a1e7d)\n",
    "\n",
    "The following table shows an example of a two-dimensional sparse array. Empty cells in the table indicate zero values.\n",
    "\n",
    "![image](https://github.com/Ishi-Singh/AP-CSA/assets/82348259/69342337-b77b-4099-86fc-d046d14e8c81)\n",
    "\n"
   ]
  },
  {
   "cell_type": "markdown",
   "metadata": {},
   "source": [
    "The sample array can be represented by a SparseArray object, sparse, with the following instance variable values. The items in entries are in no particular order; one possible ordering is shown below.\n",
    "\n",
    "![image](https://github.com/Ishi-Singh/AP-CSA/assets/82348259/900177a9-c84e-41dd-8553-a6c8fc52135a)\n",
    "\n",
    "### Part A\n",
    "\n",
    "(a) Write the SparseArray method getValueAt. The method returns the value of the sparse array element at a given row and column in the sparse array. If the list entries contains an entry with the specified row and column, the value associated with the entry is returned. If there is no entry in entries corresponding to the specified row and column, 0 is returned.\n",
    "In the example above, the call sparse.getValueAt(3, 1) would return -9, and sparse.getValueAt(3, 3) would return 0.\n",
    "\n",
    "Complete method getValueAt below.\n",
    "\n",
    "![image](https://github.com/Ishi-Singh/AP-CSA/assets/82348259/22b870e8-df2b-41ee-98b9-2e1842b83a75)\n",
    "\n",
    "### Part B\n",
    "\n",
    "(b) Write the SparseArray method removeColumn. After removing a specified column from a sparsearray:\n",
    "\n",
    "- All entries in the list entries with column indexes matching col are removed from the list.\n",
    "- All entries in the list entries with column indexes greater than col are replaced by entries with column indexes that are decremented by one (moved one column to the left).\n",
    "- The number of columns in the sparse array is adjusted to reflect the column removed.\n",
    "\n",
    "The sample object sparse from the beginning of the question is repeated for your convenience.\n",
    "\n",
    "![image](https://github.com/Ishi-Singh/AP-CSA/assets/82348259/e2b26b77-9e10-4516-bee1-221b0886fef5)\n",
    "\n",
    "The shaded entries in entries, below, correspond to the shaded column above.\n",
    "\n",
    "![image](https://github.com/Ishi-Singh/AP-CSA/assets/82348259/32c8d68d-7e15-42ea-8aea-c7b71e9265da)\n",
    "\n",
    "When sparse has the state shown above, the call sparse.removeColumn(1) could result insparse having the following values in its instance variables (since entries is in no particular order, itwould be equally valid to reverse the order of its two items). The shaded areas below show the changes.\n",
    "\n",
    "![image](https://github.com/Ishi-Singh/AP-CSA/assets/82348259/e734b15f-c304-406a-ba09-97f78132f783)\n",
    "\n",
    "![image](https://github.com/Ishi-Singh/AP-CSA/assets/82348259/f0f253b8-34ca-4858-86e3-66933390478e)\n",
    "\n",
    "![image](https://github.com/Ishi-Singh/AP-CSA/assets/82348259/2b252053-2403-4e35-8249-42d30927cc4d)"
   ]
  },
  {
   "cell_type": "markdown",
   "metadata": {},
   "source": [
    "## Answer\n",
    "\n",
    "### Part A\n",
    "\n",
    "### Part B"
   ]
  }
 ],
 "metadata": {
  "language_info": {
   "name": "python"
  }
 },
 "nbformat": 4,
 "nbformat_minor": 2
}
