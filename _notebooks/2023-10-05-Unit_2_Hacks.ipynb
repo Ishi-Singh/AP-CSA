{
 "cells": [
  {
   "cell_type": "markdown",
   "metadata": {},
   "source": [
    "---\n",
    "toc: true\n",
    "comments: true\n",
    "layout: post\n",
    "title: Unit 2\n",
    "type: hacks\n",
    "courses: { compsci: {week: 8} }\n",
    "---"
   ]
  },
  {
   "cell_type": "markdown",
   "metadata": {},
   "source": [
    "### Here is the list of the unit 2 hacks.\n",
    "Note: This is due __Monday__! Write your hacks in a Jupyter Notebook and then DM them to us over slack by Monday Morning at 8:00 AM. For full credit, all criteria in the hacks must be completed and show some originality. \n",
    "\n",
    "## Hack 1: (0.25)\n",
    "Create a void method that takes an integer input and adds it to an ArrayList. Then, add a non-void method that is able to call a certain index from the ArrayList.\n"
   ]
  },
  {
   "cell_type": "code",
   "execution_count": 1,
   "metadata": {
    "vscode": {
     "languageId": "java"
    }
   },
   "outputs": [
    {
     "name": "stdout",
     "output_type": "stream",
     "text": [
      "Element at index 1: 20\n"
     ]
    }
   ],
   "source": [
    "import java.util.ArrayList;\n",
    "\n",
    "public class ArrayListExample {\n",
    "    private ArrayList<Integer> integerList = new ArrayList<>();\n",
    "\n",
    "    // Void method to add an integer to the ArrayList\n",
    "    public void addToArrayList(int number) {\n",
    "        integerList.add(number);\n",
    "    }\n",
    "\n",
    "    // Non-void method to get an element at a specific index\n",
    "    public int getElementAtIndex(int index) {\n",
    "        if (index >= 0 && index < integerList.size()) {\n",
    "            return integerList.get(index);\n",
    "        } else {\n",
    "            throw new IndexOutOfBoundsException(\"Index is out of bounds.\");\n",
    "        }\n",
    "    }\n",
    "\n",
    "    public static void main(String[] args) {\n",
    "        ArrayListExample example = new ArrayListExample();\n",
    "\n",
    "        // Adding integers to the ArrayList\n",
    "        example.addToArrayList(10);\n",
    "        example.addToArrayList(20);\n",
    "        example.addToArrayList(30);\n",
    "\n",
    "        // Retrieving an element at a specific index\n",
    "        int elementAtIndex = example.getElementAtIndex(1);\n",
    "        System.out.println(\"Element at index 1: \" + elementAtIndex); // This will print \"Element at index 1: 20\"\n",
    "    }\n",
    "}\n",
    "\n",
    "ArrayListExample.main(null)"
   ]
  },
  {
   "cell_type": "markdown",
   "metadata": {},
   "source": [
    "## Hack 2: (0.25)\n",
    "Create a simple guessing game with random numbers in math, except the random number is taken to a random exponent (also includes roots), and the person has to find out what the root and exponent is (with hints!). Use at least one static and one non-static method in your class.\n"
   ]
  },
  {
   "cell_type": "code",
   "execution_count": 2,
   "metadata": {
    "vscode": {
     "languageId": "java"
    }
   },
   "outputs": [
    {
     "name": "stdout",
     "output_type": "stream",
     "text": [
      "Welcome to the Math Guessing Game!\n",
      "Try to guess the number!\n",
      "Enter your guess for the base: Enter your guess for the exponent: Sorry, your guess is incorrect.\n",
      "Hint: The number is 7 raised to the power of 5\n"
     ]
    }
   ],
   "source": [
    "import java.util.Random;\n",
    "import java.util.Scanner;\n",
    "\n",
    "public class MathGuessingGame {\n",
    "    private static Random random = new Random();\n",
    "    private int base;\n",
    "    private int exponent;\n",
    "    private double result;\n",
    "\n",
    "    // Non-static method to generate a random number and its exponent\n",
    "    private void generateRandomNumberAndExponent() {\n",
    "        base = random.nextInt(10) + 1; // Random base between 1 and 10\n",
    "        exponent = random.nextInt(5) + 2; // Random exponent between 2 and 6\n",
    "        result = Math.pow(base, exponent);\n",
    "    }\n",
    "\n",
    "    // Static method to provide a hint about the random number and exponent\n",
    "    private static void provideHint(int base, int exponent) {\n",
    "        System.out.println(\"Hint: The number is \" + base + \" raised to the power of \" + exponent);\n",
    "    }\n",
    "\n",
    "    public static void main(String[] args) {\n",
    "        Scanner scanner = new Scanner(System.in);\n",
    "        MathGuessingGame game = new MathGuessingGame();\n",
    "\n",
    "        System.out.println(\"Welcome to the Math Guessing Game!\");\n",
    "        System.out.println(\"Try to guess the number!\");\n",
    "\n",
    "        game.generateRandomNumberAndExponent();\n",
    "\n",
    "        System.out.print(\"Enter your guess for the base: \");\n",
    "        int guessedBase = scanner.nextInt();\n",
    "\n",
    "        System.out.print(\"Enter your guess for the exponent: \");\n",
    "        int guessedExponent = scanner.nextInt();\n",
    "\n",
    "        if (guessedBase == game.base && guessedExponent == game.exponent) {\n",
    "            System.out.println(\"Congratulations! You guessed it right. The number is \" + game.result);\n",
    "        } else {\n",
    "            System.out.println(\"Sorry, your guess is incorrect.\");\n",
    "            provideHint(game.base, game.exponent);\n",
    "        }\n",
    "\n",
    "        scanner.close();\n",
    "    }\n",
    "}\n",
    "MathGuessingGame.main(null)"
   ]
  },
  {
   "cell_type": "markdown",
   "metadata": {},
   "source": [
    "\n",
    "## Hack 3: (0.25)\n",
    "Create a class of your choosing that has multiple parameters of different types (int, boolean, String, double) and put 5 data values in that list. Show that you can access the information by givng some samples.\n",
    "\n"
   ]
  },
  {
   "cell_type": "code",
   "execution_count": 3,
   "metadata": {
    "vscode": {
     "languageId": "java"
    }
   },
   "outputs": [
    {
     "name": "stdout",
     "output_type": "stream",
     "text": [
      "Name: Alice\n",
      "Age: 25\n",
      "Is a student: true\n",
      "Height (in cm): 165.5\n"
     ]
    }
   ],
   "source": [
    "public class Person {\n",
    "    private int age;\n",
    "    private boolean isStudent;\n",
    "    private String name;\n",
    "    private double heightInCm;\n",
    "    \n",
    "    public Person(int age, boolean isStudent, String name, double heightInCm) {\n",
    "        this.age = age;\n",
    "        this.isStudent = isStudent;\n",
    "        this.name = name;\n",
    "        this.heightInCm = heightInCm;\n",
    "    }\n",
    "    \n",
    "    public int getAge() {\n",
    "        return age;\n",
    "    }\n",
    "    \n",
    "    public boolean isStudent() {\n",
    "        return isStudent;\n",
    "    }\n",
    "    \n",
    "    public String getName() {\n",
    "        return name;\n",
    "    }\n",
    "    \n",
    "    public double getHeightInCm() {\n",
    "        return heightInCm;\n",
    "    }\n",
    "    \n",
    "    public static void main(String[] args) {\n",
    "        // Creating an instance of the Person class with sample data\n",
    "        Person person1 = new Person(25, true, \"Alice\", 165.5);\n",
    "        \n",
    "        // Accessing and printing the information\n",
    "        System.out.println(\"Name: \" + person1.getName());\n",
    "        System.out.println(\"Age: \" + person1.getAge());\n",
    "        System.out.println(\"Is a student: \" + person1.isStudent());\n",
    "        System.out.println(\"Height (in cm): \" + person1.getHeightInCm());\n",
    "    }\n",
    "}\n",
    "Person.main(null)"
   ]
  },
  {
   "cell_type": "markdown",
   "metadata": {},
   "source": [
    "\n",
    "## Hack 4: (0.25)\n",
    "Using your preliminary knowlege of loops, use a for loop to iterate through a person's first and last name, seperated by a space, and create methods to call a person's first name and a person's last name by iterating through the string.\n"
   ]
  },
  {
   "cell_type": "code",
   "execution_count": 4,
   "metadata": {
    "vscode": {
     "languageId": "java"
    }
   },
   "outputs": [
    {
     "name": "stdout",
     "output_type": "stream",
     "text": [
      "First Name: John\n",
      "Last Name: Doe\n"
     ]
    }
   ],
   "source": [
    "public class PersonNameParser {\n",
    "    private String fullName;\n",
    "\n",
    "    public PersonNameParser(String fullName) {\n",
    "        this.fullName = fullName;\n",
    "    }\n",
    "\n",
    "    public String getFirstName() {\n",
    "        // Initialize an empty string to store the first name\n",
    "        String firstName = \"\";\n",
    "\n",
    "        // Iterate through the full name character by character\n",
    "        for (int i = 0; i < fullName.length(); i++) {\n",
    "            char currentChar = fullName.charAt(i);\n",
    "\n",
    "            // Break the loop when a space is encountered, indicating the end of the first name\n",
    "            if (currentChar == ' ') {\n",
    "                break;\n",
    "            }\n",
    "\n",
    "            // Append the current character to the first name\n",
    "            firstName += currentChar;\n",
    "        }\n",
    "\n",
    "        return firstName;\n",
    "    }\n",
    "\n",
    "    public String getLastName() {\n",
    "        // Initialize an empty string to store the last name\n",
    "        String lastName = \"\";\n",
    "\n",
    "        // Find the index of the last space in the full name\n",
    "        int lastSpaceIndex = fullName.lastIndexOf(' ');\n",
    "\n",
    "        // Iterate through the full name character by character, starting from the character after the last space\n",
    "        for (int i = lastSpaceIndex + 1; i < fullName.length(); i++) {\n",
    "            char currentChar = fullName.charAt(i);\n",
    "\n",
    "            // Append the current character to the last name\n",
    "            lastName += currentChar;\n",
    "        }\n",
    "\n",
    "        return lastName;\n",
    "    }\n",
    "\n",
    "    public static void main(String[] args) {\n",
    "        // Create an instance of PersonNameParser with a full name\n",
    "        PersonNameParser person = new PersonNameParser(\"John Doe\");\n",
    "\n",
    "        // Call the methods to get the first name and last name\n",
    "        String firstName = person.getFirstName();\n",
    "        String lastName = person.getLastName();\n",
    "\n",
    "        // Print the extracted first name and last name\n",
    "        System.out.println(\"First Name: \" + firstName); // Output: \"First Name: John\"\n",
    "        System.out.println(\"Last Name: \" + lastName);   // Output: \"Last Name: Doe\"\n",
    "    }\n",
    "}\n",
    "PersonNameParser.main(null)"
   ]
  }
 ],
 "metadata": {
  "kernelspec": {
   "display_name": "Java",
   "language": "java",
   "name": "java"
  },
  "language_info": {
   "codemirror_mode": "java",
   "file_extension": ".jshell",
   "mimetype": "text/x-java-source",
   "name": "Java",
   "pygments_lexer": "java",
   "version": "11.0.20.1+1-post-Ubuntu-0ubuntu120.04"
  }
 },
 "nbformat": 4,
 "nbformat_minor": 2
}
