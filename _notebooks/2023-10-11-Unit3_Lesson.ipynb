{
 "cells": [
  {
   "cell_type": "markdown",
   "metadata": {},
   "source": [
    "---\n",
    "toc: true\n",
    "comments: true\n",
    "layout: post\n",
    "title: Unit 3 Lesson \n",
    "description: The College Board testing language is Pseudo Code.  Pseudo mean kind-of language that we will compare to Python.\n",
    "type: tangibles\n",
    "courses: { compsci: {week: 6} }\n",
    "---"
   ]
  }
 ],
 "metadata": {
  "language_info": {
   "name": "python"
  }
 },
 "nbformat": 4,
 "nbformat_minor": 2
}
