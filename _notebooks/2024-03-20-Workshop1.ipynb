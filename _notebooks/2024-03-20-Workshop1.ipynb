{
 "cells": [
  {
   "cell_type": "markdown",
   "metadata": {},
   "source": [
    "---\n",
    "toc: true\n",
    "comments: true\n",
    "layout: post\n",
    "title: Workshop 1 Answers\n",
    "type: tangibles\n",
    "courses: {'compsci': {'week': 28}}\n",
    "---"
   ]
  },
  {
   "cell_type": "markdown",
   "metadata": {},
   "source": [
    "## Question 1: Primitive Types vs Reference Types (Unit 1)\n",
    "\n",
    "a. What kind of types are person1 and person2?\n",
    "  - Referance types\n",
    "b. Do person1 and person3 point to the same value in memory?\n",
    "  - Yes; person3 = person1\n",
    "c. Is the integer “number” stored in the heap or in the stack?\n",
    "  - In the stack; ints are local variables and therefore stored in a stack\n",
    "d. Is the value that “person1” points to stored in the heap or in the stack?\n",
    "  - In a heap\n",
    "\n",
    "Situation: You are developing a banking application where you need to represent customer information. You have decided to use both primitive types and reference types for this purpose.\n",
    "\n",
    "a. Define primitive types and reference types in Java. Provide examples of each.\n",
    "  - Primitive types are basic data types like ints, chars, floats, etc. and they directly store their values in memory. Reference types hold memory addresses to objects rather than the object's actual data. Some examples include classes, arrays, and interfaces (most things defined by the user)\n",
    "\n",
    "b. Explain the differences between primitive types and reference types in terms of memory allocation and usage in Java programs.\n",
    "  - Primitive types store the object's data while reference types store their values in memory\n",
    "\n",
    "c. You have a method `calculateInterest` that takes a primitive `double` type representing the principal amount and a reference type `Customer` representing the customer information. Write  the method signature and the method implementation. Include comments to explain your code."
   ]
  },
  {
   "cell_type": "code",
   "execution_count": null,
   "metadata": {
    "vscode": {
     "languageId": "java"
    }
   },
   "outputs": [],
   "source": [
    "public class Bank {\n",
    "    public double calculateInterest(double principalAmount, Customer customer) {\n",
    "        double interestRate = customer.getInterestRate();\n",
    "        double interest = principalAmount * interestRate;\n",
    "        return interest;\n",
    "    }\n",
    "\n",
    "}\n",
    "\n",
    "class Customer {\n",
    "    private double creditScore;\n",
    "\n",
    "    public Customer(double creditScore) {\n",
    "        this.creditScore = creditScore;\n",
    "    }\n",
    "\n",
    "    public double getInterestRate() {\n",
    "        if (creditScore >= 700) {\n",
    "            return 0.05;\n",
    "        } else {\n",
    "            return 0.08;\n",
    "        }\n",
    "    }\n",
    "}\n",
    "\n",
    "Bank.main(null)"
   ]
  },
  {
   "cell_type": "markdown",
   "metadata": {},
   "source": [
    "## Question 2: Iteration over 2D arrays (Unit 4)\n",
    "\n",
    "Situation: You are developing a game where you need to track player scores on a 2D grid representing levels and attempts.\n",
    "\n",
    "(a) Explain the concept of iteration over a 2D array in Java. Provide an example scenario where iterating over a 2D array is useful in a programming task.\n",
    "  - Iteration over a 2D array works by looping through each element of the array where one loop iterates over the rows and another loop iterates over the columns within each row. An example of where this can be used is in creating grid-like maps\n",
    "\n",
    "(b) Code: You need to implement a method `calculateTotalScore` that takes a 2D array `scores` of integers representing player scores and returns the sum of all the elements in the array. Write the method signature and the method implementation. Include comments to explain your code."
   ]
  },
  {
   "cell_type": "code",
   "execution_count": 1,
   "metadata": {
    "vscode": {
     "languageId": "java"
    }
   },
   "outputs": [
    {
     "name": "stdout",
     "output_type": "stream",
     "text": [
      "Total Score: 165\n"
     ]
    }
   ],
   "source": [
    "public class ScoreMathClass {\n",
    "    public int calculateTotalScore(int[][] scores) { // method\n",
    "        int totalScore = 0; \n",
    "        \n",
    "        for (int i = 0; i < scores.length; i++) { // iterate over columns\n",
    "            for (int j = 0; j < scores[i].length; j++) { // iterate over rows\n",
    "                totalScore += scores[i][j];\n",
    "            }\n",
    "        }\n",
    "        \n",
    "        return totalScore;\n",
    "    }\n",
    "    \n",
    "    public static void main(String[] args) {\n",
    "        int[][] playerScores = {\n",
    "            {10, 20, 30},\n",
    "            {15, 25, 35},\n",
    "            {5, 10, 15}\n",
    "        };\n",
    "        \n",
    "        ScoreMathClass MathClass = new ScoreMathClass();\n",
    "        int total = MathClass.calculateTotalScore(playerScores);\n",
    "        System.out.println(\"Total Score: \" + total);\n",
    "    }\n",
    "}\n",
    "\n",
    "ScoreMathClass.main(null)"
   ]
  },
  {
   "cell_type": "markdown",
   "metadata": {},
   "source": [
    "## Question 4: Math Class (Unit 2)\n",
    "\n",
    "Situation: You are developing a scientific MathClass application where users need to perform various mathematical operations.\n",
    "\n",
    "(a) Discuss the purpose and utility of the Math class in Java programming. Provide examples of at least three methods provided by the Math class and explain their usage.\n",
    "\n",
    "  - It alllows you to do more math operations\n",
    "  - Math.abs(double a): this helps when only the magnitude of a value matters and not its sign\n",
    "  - Math.pow(double a, double b): this is how to do exponents\n",
    "  - Math.sin(double a): helps in trig calculations with a radian value\n",
    "\n",
    "(b) Code: You need to implement a method `calculateSquareRoot` that takes a `double` number as input and returns its square root using the Math class. Write the method signature and the method implementation. Include comments to explain your code."
   ]
  },
  {
   "cell_type": "code",
   "execution_count": 2,
   "metadata": {
    "vscode": {
     "languageId": "java"
    }
   },
   "outputs": [
    {
     "name": "stdout",
     "output_type": "stream",
     "text": [
      "5.0\n"
     ]
    }
   ],
   "source": [
    "public class MathClass {\n",
    "    public double calculateSquareRoot(double number) { // method\n",
    "        double squareRoot = Math.sqrt(number);\n",
    "        return squareRoot;\n",
    "    }\n",
    "    \n",
    "    public static void main(String[] args) {\n",
    "        MathClass MathClass = new MathClass();\n",
    "        double number = 25.0;\n",
    "        double squareRoot = MathClass.calculateSquareRoot(number);\n",
    "        System.out.println(squareRoot);\n",
    "    }\n",
    "}\n",
    "\n",
    "MathClass.main(null)"
   ]
  }
 ],
 "metadata": {
  "kernelspec": {
   "display_name": "Java",
   "language": "java",
   "name": "java"
  },
  "language_info": {
   "codemirror_mode": "java",
   "file_extension": ".jshell",
   "mimetype": "text/x-java-source",
   "name": "Java",
   "pygments_lexer": "java",
   "version": "20.0.2+9"
  }
 },
 "nbformat": 4,
 "nbformat_minor": 2
}
