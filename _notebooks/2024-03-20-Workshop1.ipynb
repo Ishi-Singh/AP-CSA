{
 "cells": [
  {
   "cell_type": "markdown",
   "metadata": {},
   "source": [
    "Question 1: Primitive Types vs Reference Types (Unit 1)\n",
    "\n",
    "\n",
    "MCQ Question\n",
    "\n",
    "Situation: You are developing a banking application where you need to represent customer information. You have decided to use both primitive types and reference types for this purpose.\n",
    "\n",
    "(a) Define primitive types and reference types in Java. Provide examples of each.\n",
    "\n",
    "(b) Explain the differences between primitive types and reference types in terms of memory allocation and usage in Java programs.\n",
    "\n",
    "(c) Code:\n",
    "\n",
    "You have a method `calculateInterest` that takes a primitive `double` type representing the principal amount and a reference type `Customer` representing the customer information. Write  the method signature and the method implementation. Include comments to explain your code."
   ]
  },
  {
   "cell_type": "markdown",
   "metadata": {},
   "source": [
    "Question 2: Iteration over 2D arrays (Unit 4)\n",
    "\n",
    "Situation: You are developing a game where you need to track player scores on a 2D grid representing levels and attempts.\n",
    "\n",
    "(a) Explain the concept of iteration over a 2D array in Java. Provide an example scenario where iterating over a 2D array is useful in a programming task.\n",
    "\n",
    "(b) Code:\n",
    "\n",
    "You need to implement a method `calculateTotalScore` that takes a 2D array `scores` of integers representing player scores and returns the sum of all the elements in the array. Write the method signature and the method implementation. Include comments to explain your code."
   ]
  },
  {
   "cell_type": "markdown",
   "metadata": {},
   "source": [
    "Question 4: Math Class (Unit 2)\n",
    "\n",
    "Situation: You are developing a scientific calculator application where users need to perform various mathematical operations.\n",
    "\n",
    "(a) Discuss the purpose and utility of the Math class in Java programming. Provide examples of at least three methods provided by the Math class and explain their usage.\n",
    "\n",
    "(b) Code:\n",
    "\n",
    "You need to implement a method `calculateSquareRoot` that takes a `double` number as input and returns its square root using the Math class. Write the method signature and the method implementation. Include comments to explain your code."
   ]
  },
  {
   "cell_type": "markdown",
   "metadata": {},
   "source": [
    "Question 5: If, While, Else (Unit 3-4)\n",
    "\n",
    "Situation: You are developing a simple grading system where you need to determine if a given score is passing or failing.\n",
    "\n",
    "(a) Explain the roles and usage of the if statement, while loop, and else statement in Java programming. Provide examples illustrating each.\n",
    "\n",
    "(b) Code:\n",
    "\n",
    "You need to implement a method `printGradeStatus` that takes an integer `score` as input and prints \"Pass\" if the score is greater than or equal to 60, and \"Fail\" otherwise. Write the method signature and the method implementation. Include comments to explain your code.\n"
   ]
  }
 ],
 "metadata": {
  "language_info": {
   "name": "python"
  }
 },
 "nbformat": 4,
 "nbformat_minor": 2
}
