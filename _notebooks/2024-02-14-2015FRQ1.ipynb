{
 "cells": [
  {
   "cell_type": "markdown",
   "metadata": {},
   "source": [
    "---\n",
    "toc: true\n",
    "comments: true\n",
    "layout: post\n",
    "title: 2015 FRQ 1\n",
    "type: tangibles\n",
    "courses: {'compsci': {'week': 22}}\n",
    "---"
   ]
  },
  {
   "cell_type": "markdown",
   "metadata": {},
   "source": [
    "## Question\n",
    "\n",
    "Directions: SHOW ALL YOUR WORK. REMEMBER THAT PROGRAM SEGMENTS ARE TO BE WRITTEN IN JAVA.\n",
    "\n",
    "Notes:\n",
    " \n",
    "\n",
    "Assume that the classes listed in the Java Quick Reference have been imported where appropriate.\n",
    "\n",
    "Unless otherwise noted in the question, assume that parameters in method calls are not null and that methods are called only when their preconditions are satisfied.\n",
    "\n",
    "In writing solutions for each question, you may use any of the accessible methods that are listed in classes defined in that question. Writing significant amounts of code that can be replaced by a call to one of these methods will not receive full credit.\n",
    "\n",
    "This question involves reasoning about one-dimensional and two-dimensional arrays of integers. You will write three static methods, all of which are in a single enclosing class, named DiverseArray (not shown). The first method returns the sum of the values of a one-dimensional array; the second method returns an array that represents the sums of the rows of a two-dimensional array; and the third method analyzes row sums.\n",
    "\n",
    "### Part A\n",
    "\n",
    "(a) Write a static method arraySum that calculates and returns the sum of the entries in a specified one-dimensional array. The following example shows an array arr1 and the value returned by a call to arraySum.\n",
    "\n"
   ]
  },
  {
   "cell_type": "markdown",
   "metadata": {},
   "source": [
    "![image](https://github.com/Ishi-Singh/AP-CSA/assets/82348259/8749dadc-f684-4fc8-ac14-0a5d7a148009)"
   ]
  },
  {
   "cell_type": "markdown",
   "metadata": {},
   "source": [
    "Complete method arraySum below.\n",
    "\n",
    "```\n",
    "/ * * Returns the sum of the entries in the one-dimensional array arr.\n",
    "\n",
    "* /\n",
    "\n",
    "```\n",
    "\n",
    "public static int arraySum (int [ ] arr)"
   ]
  },
  {
   "cell_type": "code",
   "execution_count": 11,
   "metadata": {},
   "outputs": [
    {
     "name": "stdout",
     "output_type": "stream",
     "text": [
      "Sum: 16\n"
     ]
    }
   ],
   "source": [
    "public class questionOne {\n",
    "    public static int arraySum(int[] arr1) {\n",
    "        int sum = 0; // value starts at 0 since we haven't added any entries yet \n",
    "        for (int entry:arr1) { // use a for each loop to get every value in the array\n",
    "            sum += entry; // adding each entry to the sum\n",
    "        }\n",
    "        return sum;\n",
    "    }\n",
    "    \n",
    "\n",
    "    public static void main(String[] args) {\n",
    "        int[] arr1 = {1, 3, 2, 7, 3};\n",
    "        int total = questionOne.arraySum(arr1);\n",
    "        System.out.println(\"Sum: \" + total);\n",
    "    }\n",
    "}\n",
    "\n",
    "questionOne.main(null)"
   ]
  },
  {
   "cell_type": "markdown",
   "metadata": {},
   "source": [
    "### Part B\n",
    "\n",
    "(b) Write a static method rowSums that calculates the sums of each of the rows in a given two-dimensional array and returns these sums in a one-dimensional array. The method has one parameter, a two-dimensional array arr2D of int values. The array is in row-major order: arr2D [ r ] [ c ] is the entry at row r and column c. The method returns a one-dimensional array with one entry for each row of arr2D such that each entry is the sum of the corresponding row in arr2D. As a reminder, each row of a two-dimensional array is a one-dimensional array.\n",
    "\n",
    "For example, if mat1 is the array represented by the following table, the call rowSums(mat1) returns the array {16, 32, 28, 20}.\n",
    "\n",
    "![image](https://github.com/Ishi-Singh/AP-CSA/assets/82348259/5756fd8e-ab68-4425-a945-0c25ae3cb3fc)\n",
    "\n",
    "![image](https://github.com/Ishi-Singh/AP-CSA/assets/82348259/0ac16947-f549-4fe7-8a66-14b1952ab139)\n"
   ]
  },
  {
   "cell_type": "markdown",
   "metadata": {},
   "source": [
    "Assume that arraySum works as specified, regardless of what you wrote in part (a). You must use arraySum appropriately to receive full credit.\n",
    "\n",
    "Complete method rowSums below.\n",
    "\n",
    "```\n",
    "/ * * Returns a one-dimensional array in which the entry at index k is the sum of\n",
    "\n",
    "* the entries of row k of the two-dimensional array arr2D.\n",
    "\n",
    "* /\n",
    "```\n",
    "\n",
    "public static int [ ] rowSums(int [ ] [ ] arr2D)"
   ]
  },
  {
   "cell_type": "code",
   "execution_count": 33,
   "metadata": {},
   "outputs": [
    {
     "name": "stdout",
     "output_type": "stream",
     "text": [
      "Sum: [16, 32, 28, 20]\n"
     ]
    }
   ],
   "source": [
    "public class questionOne {\n",
    "    public static int arraySum(int[] arr1) {\n",
    "        int sum = 0; // value starts at 0 since we haven't added any entries yet \n",
    "        for (int entry:arr1) { // use a for each loop to get every value in the array\n",
    "            sum += entry; // adding each entry to the sum\n",
    "        }\n",
    "        return sum;\n",
    "    }\n",
    "\n",
    "    // method to calculate the sums of each row\n",
    "    public static int[] rowSums(int[][] arr2D){ \n",
    "        int[] rows = new int[arr2D.length]; // make an array with the same length as the number of rows\n",
    "        for(int i = 0; i < arr2D.length; i++){\n",
    "            rows[i] = arraySum(arr2D[i]); // use arraySum method to get row sum\n",
    "        }\n",
    "        return rows;\n",
    "    }\n",
    "\n",
    "    public static void main(String[] args) {\n",
    "        int[][] mat1 = {\n",
    "            {1, 3, 2, 7, 3}, \n",
    "            {10, 10, 4, 6, 2}, \n",
    "            {5, 3, 5, 9, 6}, \n",
    "            {7, 6, 4, 2, 1}\n",
    "        };\n",
    "    \n",
    "        int[] total = questionOne.rowSums(mat1);\n",
    "        System.out.println(\"Sum: \" + Arrays.toString(total));\n",
    "    }    \n",
    "}\n",
    "\n",
    "questionOne.main(null);\n"
   ]
  },
  {
   "cell_type": "markdown",
   "metadata": {},
   "source": [
    "\n",
    " ### Part C\n",
    "\n",
    "(c) A two-dimensional array is diverse if no two of its rows have entries that sum to the same value. In the following examples, the array mat1 is diverse because each row sum is different, but the array mat2 is not diverse because the first and last rows have the same sum.\n",
    "\n",
    "\n",
    "![image](https://github.com/Ishi-Singh/AP-CSA/assets/82348259/43f8303a-06b7-4948-bb97-2da8d02fab83)\n"
   ]
  },
  {
   "cell_type": "markdown",
   "metadata": {},
   "source": [
    "Write a static method isDiverse that determines whether or not a given two-dimensional array is diverse. The method has one parameter: a two-dimensional array arr2D of int values. The method should return true if all the row sums in the given array are unique; otherwise, it should return false. In the arrays shown above, the call isDiverse (mat1) returns true and the call isDiverse(mat2) returns false."
   ]
  },
  {
   "cell_type": "markdown",
   "metadata": {},
   "source": [
    "![image](https://github.com/Ishi-Singh/AP-CSA/assets/82348259/1183892c-0fcd-4fcf-a6af-2557e20790be)"
   ]
  },
  {
   "cell_type": "markdown",
   "metadata": {},
   "source": [
    "Assume that arraySum and rowSums work as specified, regardless of what you wrote in parts (a) and(b). You must use rowSums appropriately to receive full credit.\n",
    "Complete method isDiverse below.\n",
    "```\n",
    "/ * * Returns true if all rows in arr2D have different row sums;\n",
    "* false otherwise.\n",
    "\n",
    "* /public static boolean isDiverse(int [ ] [ ] arr2D)\n",
    "```"
   ]
  },
  {
   "cell_type": "code",
   "execution_count": 32,
   "metadata": {},
   "outputs": [
    {
     "name": "stdout",
     "output_type": "stream",
     "text": [
      "mat1 results: true\n",
      "mat2 results: false\n"
     ]
    }
   ],
   "source": [
    "public class questionOne {\n",
    "    // code from previous parts\n",
    "    public static int arraySum(int[] arr1) {\n",
    "        int sum = 0; // value starts at 0 since we haven't added any entries yet \n",
    "        for (int entry:arr1) { // use a for each loop to get every value in the array\n",
    "            sum += entry; // adding each entry to the sum\n",
    "        }\n",
    "        return sum;\n",
    "    }\n",
    "\n",
    "    // method to calculate the sums of each row\n",
    "    public static int[] rowSums(int[][] arr2D){ \n",
    "        int[] rows = new int[arr2D.length]; // make an array with the same length as the number of rows\n",
    "        for(int i = 0; i < arr2D.length; i++){\n",
    "            rows[i] = arraySum(arr2D[i]); // use arraySum method to get row sum\n",
    "        }\n",
    "        return rows;\n",
    "    }\n",
    "\n",
    "    public static boolean isDiverse(int[][] arr2D) {\n",
    "        int[] rowSum = rowSums(arr2D);\n",
    "        for (int i = 0; i < rowSum.length; i++) { \n",
    "            for (int j = i + 1; j < rowSum.length; j++) { // compare the current entry with the entry after it\n",
    "                if (rowSum[i] == rowSum[j]) { // if they are the same return false\n",
    "                    return false;\n",
    "                }\n",
    "            }\n",
    "        }\n",
    "        return true;\n",
    "    }\n",
    "    \n",
    "\n",
    "    public static void main(String[] args) {\n",
    "        int[][] mat1 = {\n",
    "            {1, 3, 2, 7, 3}, \n",
    "            {10, 10, 4, 6, 2}, \n",
    "            {5, 3, 5, 9, 6}, \n",
    "            {7, 6, 4, 2, 1}\n",
    "        };\n",
    "        \n",
    "        int[][] mat2 = {\n",
    "            {1, 1, 5, 3, 4}, \n",
    "            {12, 7, 6, 1, 9}, \n",
    "            {8, 11, 10, 2, 5}, \n",
    "            {3, 2, 3, 0, 6}\n",
    "        };\n",
    "        \n",
    "        System.out.println(\"mat1 results: \" + isDiverse(mat1));\n",
    "        System.out.println(\"mat2 results: \" + isDiverse(mat2));\n",
    "    }\n",
    "}\n",
    "\n",
    "questionOne.main(null)"
   ]
  }
 ],
 "metadata": {
  "kernelspec": {
   "display_name": "Java",
   "language": "java",
   "name": "java"
  },
  "language_info": {
   "codemirror_mode": "java",
   "file_extension": ".jshell",
   "mimetype": "text/x-java-source",
   "name": "java",
   "pygments_lexer": "java",
   "version": "20.0.2+9"
  }
 },
 "nbformat": 4,
 "nbformat_minor": 2
}
