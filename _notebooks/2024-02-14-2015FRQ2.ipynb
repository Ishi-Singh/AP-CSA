{
 "cells": [
  {
   "cell_type": "markdown",
   "metadata": {},
   "source": [
    "---\n",
    "toc: true\n",
    "comments: true\n",
    "layout: post\n",
    "title: 2015 FRQ 2\n",
    "type: tangibles\n",
    "---"
   ]
  },
  {
   "cell_type": "markdown",
   "metadata": {},
   "source": [
    "## Question\n",
    "\n",
    "Directions: SHOW ALL YOUR WORK. REMEMBER THAT PROGRAM SEGMENTS ARE TO BE WRITTEN IN JAVA.\n",
    "\n",
    "Notes:\n",
    "\n",
    "- Assume that the classes listed in the Java Quick Reference have been imported where appropriate.\n",
    "- Unless otherwise noted in the question, assume that parameters in method calls are not null and that methods are called only when their preconditions are satisfied.\n",
    "- In writing solutions for each question, you may use any of the accessible methods that are listed in classes defined in that question. Writing significant amounts of code that can be replaced by a call to one of these methods will not receive full credit.\n",
    "\n",
    "Consider a guessing game in which a player tries to guess a hidden word. The hidden word contains only capital letters and has a length known to the player. A guess contains only capital letters and has the same length as the hidden word.\n",
    "\n",
    "After a guess is made, the player is given a hint that is based on a comparison between the hidden word and the guess. Each position in the hint contains a character that corresponds to the letter in the same position in the guess. The following rules determine the characters that appear in the hint.\n",
    "\n",
    "![image](https://github.com/Ishi-Singh/AP-CSA/assets/82348259/a0615409-0cb8-4d38-8531-856ccc9f54fe)\n",
    "\n"
   ]
  },
  {
   "cell_type": "markdown",
   "metadata": {},
   "source": [
    "The HiddenWord class will be used to represent the hidden word in the game. The hidden word is passed to the constructor. The class contains a method, getHint, that takes a guess and produces a hint.\n",
    "\n",
    "For example, suppose the variable puzzle is declared as follows.\n",
    "\n",
    "HiddenWord puzzle = new HiddenWord(\"HARPS\");\n",
    "\n",
    "\n",
    "The following table shows several guesses and the hints that would be produced.\n",
    "\n",
    "![image](https://github.com/Ishi-Singh/AP-CSA/assets/82348259/1c402b41-2d7c-4b6a-93e1-05e24d0a30c2)\n",
    "\n",
    "Write the complete HiddenWord class, including any necessary instance variables, its constructor, and the method, getHint, described above. You may assume that the length of the guess is the same as the length of the hidden word."
   ]
  },
  {
   "cell_type": "code",
   "execution_count": 9,
   "metadata": {
    "vscode": {
     "languageId": "java"
    }
   },
   "outputs": [
    {
     "name": "stdout",
     "output_type": "stream",
     "text": [
      "Guess the word: -----\n",
      "Guess: AAAAA Result: +A+++\n",
      "Guess: HELLO Result: H****\n",
      "Guess: HEART Result: H*++*\n",
      "Guess: HARMS Result: HAR*S\n",
      "Guess: HARPS Result: HARPS\n"
     ]
    }
   ],
   "source": [
    "public class HiddenWord {\n",
    "    private String word;\n",
    "\n",
    "    public HiddenWord(String hiddenWord) {\n",
    "        word = hiddenWord;\n",
    "    }\n",
    "\n",
    "    public String getHint(String guess) {\n",
    "        String hint = \"\"; // create empty string to store hints\n",
    "\n",
    "        for (int i = 0; i < guess.length(); i++) {\n",
    "            if (guess.substring(i, i + 1).equals(word.substring(i, i + 1))) { // correct character and position\n",
    "                hint += guess.substring(i, i + 1);\n",
    "            } \n",
    "            else if (word.indexOf(guess.substring(i, i + 1)) != -1) {\n",
    "                hint += \"+\"; // the character exists but isn't in the correct position\n",
    "            } \n",
    "            else {\n",
    "                hint += \"*\"; // the character isn't in the word\n",
    "            }\n",
    "        }\n",
    "        return hint;\n",
    "    }\n",
    "\n",
    "    public static void main(String[] args) {\n",
    "        HiddenWord hiddenWordInstance = new HiddenWord(\"HARPS\");\n",
    "    \n",
    "        String result = \"-----\";\n",
    "        System.out.println(\"Guess the word: \" + result);\n",
    "    \n",
    "        String[] guesses = {\"AAAAA\", \"HELLO\", \"HEART\", \"HARMS\", \"HARPS\"};\n",
    "    \n",
    "        for (String guess:guesses) {\n",
    "            result = hiddenWordInstance.getHint(guess);\n",
    "            System.out.println(\"Guess: \" + guess + \" Result: \" + result);\n",
    "        }\n",
    "    } \n",
    "}\n",
    "\n",
    "HiddenWord.main(null);"
   ]
  }
 ],
 "metadata": {
  "kernelspec": {
   "display_name": "Java",
   "language": "java",
   "name": "java"
  },
  "language_info": {
   "codemirror_mode": "java",
   "file_extension": ".jshell",
   "mimetype": "text/x-java-source",
   "name": "Java",
   "pygments_lexer": "java",
   "version": "20.0.2+9"
  }
 },
 "nbformat": 4,
 "nbformat_minor": 2
}
